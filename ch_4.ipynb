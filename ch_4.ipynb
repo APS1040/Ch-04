{
 "cells": [
  {
   "cell_type": "markdown",
   "metadata": {},
   "source": [
    "# Probability (Ch 4)"
   ]
  },
  {
   "cell_type": "markdown",
   "metadata": {},
   "source": [
    "Below the basic material on Probability, there is important material on Fitting Distributions to Data - especially the AD Python normality test. \n",
    "\n",
    "The scipy.stats package supports computations with many probability distributions.\n",
    "\n",
    "Each distribution is a function of a random variable $x$ and some parameters. The parameter letters used varies by distribution. \n",
    "\n",
    "$x$ is either a  discrete or a continuous random variable. \n",
    "\n",
    "If $x$ is discrete then \n",
    "\n",
    "1. its distribution is said to be discrete\n",
    "2. the distribution is referred to as a Probability Mass Function or $pmf(x)$\n",
    "3. for any specific value $a$, $Pr(x=a) = pmf(a)$\n",
    "4. the cumulative distribution is referred to as Cumulative Density Function or $cdf(x)$ and computed by summation of $pmf$.\n",
    "5. for any specific value $a$, $Pr( x\\leq a)= cdf(a)=\\sum_{x \\leq a}pmf(x)$\n",
    "6. for any specific probability $p$, $a=cdf^{-1}(p)\\rightarrow Pr(x\\leq a)=p$ \n",
    "\n",
    "If $x$ is continuous then \n",
    "\n",
    "1. its distribution is said to be continuous\n",
    "2. the distribution is referred to as a Probability Density Function or $pdf(x)$\n",
    "3. for any specific value $a$, $Pr(x=a) = 0$. $pdf(a)$ has no real meaning. \n",
    "4. the cumulative distribution is referred to as Cumulative Density Function or $cdf(x)$ and computed by integration of $pdf$.\n",
    "5. for any specific value $a$, $Pr( x\\leq a)= cdf(a)=\\int_{x \\leq a}pdf(x)dx$\n",
    "6. for any specific probability $p$, $a=cdf^{-1}(p)\\rightarrow Pr(x\\leq a)=p$\n",
    "\n",
    "Following are python examples of the various $pmf, pdf, cdf \\text{ and } cdf^{-1}$ methods of interest.\n",
    "\n",
    "Note that in python $cdf^{-1}$ is called the Percent Point Function, and denoted as the ppf. \n",
    "\n",
    "But first a word on object oriented programming concepts\n"
   ]
  },
  {
   "cell_type": "markdown",
   "metadata": {},
   "source": [
    "## Classes, Objects and Methods\n",
    "\n",
    "Object Oriented programming works with these concepts. \n",
    "\n",
    "Methods were introduced in Ch 1. Here we deal briefly with classes and objects. \n",
    "\n",
    "Loosely speaking, an object is anything: equation, distribution, picture, dataset, etc. \n",
    "    \n",
    "Loosely speaking, a class is a group of objects, with common properties. A class can also be a group of other classes. \n",
    "\n",
    "scipy.stats has a class for discrete distributions rv_discrete, and one for continuous distributions rv_continuous\n",
    "\n",
    "Each of these classes has methods which can be used for objects in that class. \n",
    "\n",
    "rv_discrete methods include pmf and cdf; rv_continuous methods include pdf and cdf (although pdf is not very useful)"
   ]
  },
  {
   "cell_type": "markdown",
   "metadata": {},
   "source": [
    "## Discrete distributions objects: binom, geom, hypergeom, poisson"
   ]
  },
  {
   "cell_type": "markdown",
   "metadata": {},
   "source": [
    "### binom\n",
    "\n",
    "A binomial distribution with parameters n and p. \n",
    "\n",
    "Following is a sample application of the pmf, cdf and ppf methods. "
   ]
  },
  {
   "cell_type": "code",
   "execution_count": 1,
   "metadata": {},
   "outputs": [
    {
     "name": "stdout",
     "output_type": "stream",
     "text": [
      "Pr(x=3|n=10,p=.2) = 0.20132659200000022\n"
     ]
    }
   ],
   "source": [
    "import scipy.stats as stat\n",
    "print('Pr(x=3|n=10,p=.2) =',stat.binom.pmf(3, 10,.2))"
   ]
  },
  {
   "cell_type": "code",
   "execution_count": 2,
   "metadata": {},
   "outputs": [
    {
     "name": "stdout",
     "output_type": "stream",
     "text": [
      "Pr(x >= 3|n=10,p=.2) = 0.3222004735999999\n"
     ]
    }
   ],
   "source": [
    "print('Pr(x >= 3|n=10,p=.2) =',1-stat.binom.cdf(2, 10,.2))"
   ]
  },
  {
   "cell_type": "code",
   "execution_count": 21,
   "metadata": {},
   "outputs": [
    {
     "name": "stdout",
     "output_type": "stream",
     "text": [
      "The value of a so that Pr(x <= a|n=10,p=.2) =0.3 is  1.0\n"
     ]
    }
   ],
   "source": [
    "print('The value of a so that Pr(x <= a|n=10,p=.2) =0.3 is ',stat.binom.ppf(0.32, 10,.2))"
   ]
  },
  {
   "cell_type": "code",
   "execution_count": 20,
   "metadata": {},
   "outputs": [
    {
     "name": "stdout",
     "output_type": "stream",
     "text": [
      "The value of a so that Pr(x >= a|n=10,p=.2) =0.3 is  3.0\n"
     ]
    }
   ],
   "source": [
    "print('The value of a so that Pr(x >= a|n=10,p=.2) =0.3 is ',stat.binom.ppf(1-0.32, 10,.2))"
   ]
  },
  {
   "cell_type": "markdown",
   "metadata": {},
   "source": [
    "### geom \n",
    "A geometric distribution with parameter p. \n",
    "\n",
    "Following is a sample application of the pmf, cdf and ppf methods. "
   ]
  },
  {
   "cell_type": "code",
   "execution_count": 3,
   "metadata": {},
   "outputs": [
    {
     "name": "stdout",
     "output_type": "stream",
     "text": [
      "Pr(x=20|p=.2) = 0.0028823037615171208\n"
     ]
    }
   ],
   "source": [
    "print('Pr(x=20|p=.2) =',stat.geom.pmf(20, .2))"
   ]
  },
  {
   "cell_type": "code",
   "execution_count": 4,
   "metadata": {},
   "outputs": [
    {
     "name": "stdout",
     "output_type": "stream",
     "text": [
      "Pr(x >= 20|p=.2) = 0.014411518807585622\n"
     ]
    }
   ],
   "source": [
    "print('Pr(x >= 20|p=.2) =',1-stat.geom.cdf(19, .2))"
   ]
  },
  {
   "cell_type": "code",
   "execution_count": 23,
   "metadata": {},
   "outputs": [
    {
     "name": "stdout",
     "output_type": "stream",
     "text": [
      "The value of a so that Pr(x >= a|p=.2) =0.3 is  20.0\n"
     ]
    }
   ],
   "source": [
    "print('The value of a so that Pr(x >= a|p=.2) =0.3 is ',stat.geom.ppf(1-0.0144, .2))"
   ]
  },
  {
   "cell_type": "markdown",
   "metadata": {},
   "source": [
    "### hypergeom\n",
    "A hypergeometric distribution with parameter p, N, D, n (using the notation in the e-text). \n",
    "\n",
    "The python documentation uses p, M, n, N. \n",
    "\n",
    "This is a common industry problem, in that there is no generally accepted symbols or names for distribution parameters. Careful reading of documentation is essential. (This could have lead to a serious error during one of my consulting assignments, had we not closely monitored the reasonableness of our results.) \n",
    "\n",
    "Following is a sample application of the pmf, cdf and ppf methods. "
   ]
  },
  {
   "cell_type": "code",
   "execution_count": 5,
   "metadata": {},
   "outputs": [
    {
     "name": "stdout",
     "output_type": "stream",
     "text": [
      "Pr(x=0| N=50, D=12, n=5) = 0.2369036606316904\n"
     ]
    }
   ],
   "source": [
    "print('Pr(x=0| N=50, D=12, n=5) =',stat.hypergeom.pmf(0, 50, 12, 5))"
   ]
  },
  {
   "cell_type": "code",
   "execution_count": 6,
   "metadata": {},
   "outputs": [
    {
     "name": "stdout",
     "output_type": "stream",
     "text": [
      "Pr(x > 2| N=50, D=12, n=5) = 0.08224716343521621\n"
     ]
    }
   ],
   "source": [
    "print('Pr(x > 2| N=50, D=12, n=5) =',1-stat.hypergeom.cdf(2, 50, 12, 5))"
   ]
  },
  {
   "cell_type": "code",
   "execution_count": 31,
   "metadata": {},
   "outputs": [
    {
     "name": "stdout",
     "output_type": "stream",
     "text": [
      "The value of a so that Pr(x > a|N=50, D=12, n=5) =0.082 is  2.0\n"
     ]
    }
   ],
   "source": [
    "print('The value of a so that Pr(x > a|N=50, D=12, n=5) =0.082 is ',stat.hypergeom.ppf(1-0.083, 50, 12, 5))"
   ]
  },
  {
   "cell_type": "markdown",
   "metadata": {},
   "source": [
    "### poisson\n",
    "A poisson distribution with parameter $\\lambda$ (using the notation in the e-text).\n",
    "\n",
    "The python documentation uses mu.\n",
    "\n",
    "Following is a sample application of the pmf, cdf and ppf methods. "
   ]
  },
  {
   "cell_type": "code",
   "execution_count": 7,
   "metadata": {},
   "outputs": [
    {
     "name": "stdout",
     "output_type": "stream",
     "text": [
      "Pr(x = 5| lambda = 3.2) = 0.11397938346351824\n"
     ]
    }
   ],
   "source": [
    "print('Pr(x = 5| lambda = 3.2) =',stat.poisson.pmf(5, 3.2))"
   ]
  },
  {
   "cell_type": "code",
   "execution_count": 8,
   "metadata": {},
   "outputs": [
    {
     "name": "stdout",
     "output_type": "stream",
     "text": [
      "Pr(x > 10 | lambda = 3.2) = 0.0004971678047492878\n"
     ]
    }
   ],
   "source": [
    "print('Pr(x > 10 | lambda = 3.2) =',1-stat.poisson.cdf(10, 3.2))"
   ]
  },
  {
   "cell_type": "code",
   "execution_count": 32,
   "metadata": {},
   "outputs": [
    {
     "name": "stdout",
     "output_type": "stream",
     "text": [
      "The value of a so that Pr(x > a|lambda = 3.2 is  10.0\n"
     ]
    }
   ],
   "source": [
    "print('The value of a so that Pr(x > a|lambda = 3.2) is ',stat.poisson.ppf(1-0.0005, 3.2))"
   ]
  },
  {
   "cell_type": "markdown",
   "metadata": {},
   "source": [
    "## Continuous distribution object: norm"
   ]
  },
  {
   "cell_type": "markdown",
   "metadata": {},
   "source": [
    "### norm\n",
    "A normal distribution with parameter $\\mu$ and $\\sigma$ (using the notation in the e-text).\n",
    "\n",
    "The python documentation uses loc and scale.\n",
    "\n",
    "Following is a sample application of the cdf and ppf methods. "
   ]
  },
  {
   "cell_type": "code",
   "execution_count": 9,
   "metadata": {},
   "outputs": [
    {
     "name": "stdout",
     "output_type": "stream",
     "text": [
      "Pr( 10 <= x <= 15| mu=7, sigma=2) = 0.06677553002702497\n"
     ]
    }
   ],
   "source": [
    "print('Pr( 10 <= x <= 15| mu=7, sigma=2) =',stat.norm.cdf(15, 7, 2) - stat.norm.cdf(10, 7,2))"
   ]
  },
  {
   "cell_type": "code",
   "execution_count": 36,
   "metadata": {},
   "outputs": [
    {
     "name": "stdout",
     "output_type": "stream",
     "text": [
      "The value of a so that Pr( x <= a | mu=7, sigma=2) = 0.997 is  12.495562770889986\n"
     ]
    }
   ],
   "source": [
    "print('The value of a so that Pr( x <= a | mu=7, sigma=2) = 0.997 is ',stat.norm.ppf( 0.997, 7,2))"
   ]
  },
  {
   "cell_type": "markdown",
   "metadata": {},
   "source": [
    "Although pdf(x) has no real meaning, let's see what happens when we use it"
   ]
  },
  {
   "cell_type": "code",
   "execution_count": 10,
   "metadata": {},
   "outputs": [
    {
     "name": "stdout",
     "output_type": "stream",
     "text": [
      "What is the meaning of pdf(10)= 0.06475879783294587 ?\n"
     ]
    }
   ],
   "source": [
    "print('What is the meaning of pdf(10)=',stat.norm.pdf(10, 7, 2),'?')"
   ]
  },
  {
   "cell_type": "markdown",
   "metadata": {},
   "source": [
    "We can even generate pdf values > 1 !!!"
   ]
  },
  {
   "cell_type": "code",
   "execution_count": 11,
   "metadata": {},
   "outputs": [
    {
     "name": "stdout",
     "output_type": "stream",
     "text": [
      "pdf(10|mu=10, sigma=0.1) = 3.989422804014327 !!!\n"
     ]
    }
   ],
   "source": [
    "print('pdf(10|mu=10, sigma=0.1) =',stat.norm.pdf(10,10,0.1),'!!!')"
   ]
  },
  {
   "cell_type": "markdown",
   "metadata": {},
   "source": [
    "If you wish to discuss the meaning of the pdf of a continuous distribution, please raise it at one of the tutorials. "
   ]
  },
  {
   "cell_type": "markdown",
   "metadata": {},
   "source": [
    "# From Data to Distributions (Ch 4)\n",
    "\n",
    "This is a very broad topic. Here we address three items \n",
    "\n",
    "1. Goodness of Fit criteria: how to decide what is a 'better' fit to the data.\n",
    "\n",
    "1. General Distribution Fitting: How to proceed to fit a distribution to a given dataset\n",
    "\n",
    "2. Normality Tests: How to test whether a dataset is normally distributed or not. \n",
    "\n",
    "## Goodness of fit criteria\n",
    "\n",
    "The following criteria are commonly used\n",
    "\n",
    "1. SSE: Sum of square errors, between the fitted distribution and the data. While this can be used as one criteria, it is generally not the preferred statistical test. The python fitter package uses this criterion exclusively. \n",
    "\n",
    "2. Chi-Square: This criterion requires that bins be defined, as also required for a histogram. Because results may vary based on the bins selected, this criterion is not reliable. Available in python at scipy.stats.chisquare and distribution independent. Generates p-value. \n",
    "\n",
    "3. KS: The KolmogorovûSmirnov test does not require bins, but only depends on the largest difference between the fit and the data. Available in python scipy.stats.kstest; distribution dependent, but accepts as input any stats distribution. Generates p-value.   \n",
    "\n",
    "4. AD: The AndersonûDarling test is an improvement over KS, as it depends on the difference between the fit and the data over the entire range. It is the criterion used by Minitab. Available in python at scipy.stats.anderson, but only accepts the normal ,exponential, logistic,gumbel, and extreme distributions. Generates p-value. \n",
    "\n",
    "\n",
    "## General Distribution Fitting\n",
    "\n",
    "Unfortunately, at the time of this writing, there is no widely used python package that can fit data to a large selection of distributions, and rank distributions based on the AD criterion. \n",
    "\n",
    "Minitab, and other products (@Risk, Stat::Fit, Expertfit), only require that the user specify \n",
    "\n",
    "1. whether a discrete or continuous distribution is sought. \n",
    "\n",
    "2. the goodness of fit criteria by which the distribution are to be ranked. \n",
    "\n",
    "This software then does the rest, often accompanying its results with probability plots, which graphically display the goodness of fit over the entire data range. \n",
    "\n",
    "Therefore within the context of this course you should be familiar with Minitab functionality. \n",
    "\n",
    "## Normality Test\n",
    "\n",
    "Many of the control charts in this course assume that the data is normally distributed. \n",
    "\n",
    "Therefore, in quality control, it is very important to have access to software that can determine if the assumption is reasonable or not. \n",
    "\n",
    "So in addition to Minitab, this course will expect you to be able to use python to perform the test. \n",
    "\n",
    "We will use Miniab as the standard, in terms of the functionality provided:\n",
    "\n",
    "1. Mean: Maximum Likelihood Estimate (MLE) of the mean of the fitted normal distribution\n",
    "2. SD: MLE of the Standard Deviation of the fitted normal distribution\n",
    "3. N: number of data points\n",
    "4. AD: value of the AD test value\n",
    "5. p-value: corresponding to the AD value \n",
    "6. Probability Plot; Showing the goodness of fit graphically \n",
    "7. Confidence Interval: Included in the Probability Plot\n",
    "\n",
    "We will next show that items 1-6 are available via python, but item 7 is currently not. \n",
    "\n",
    "First we bring in the data \n"
   ]
  },
  {
   "cell_type": "code",
   "execution_count": 1,
   "metadata": {},
   "outputs": [
    {
     "data": {
      "text/html": [
       "<div>\n",
       "<style scoped>\n",
       "    .dataframe tbody tr th:only-of-type {\n",
       "        vertical-align: middle;\n",
       "    }\n",
       "\n",
       "    .dataframe tbody tr th {\n",
       "        vertical-align: top;\n",
       "    }\n",
       "\n",
       "    .dataframe thead th {\n",
       "        text-align: right;\n",
       "    }\n",
       "</style>\n",
       "<table border=\"1\" class=\"dataframe\">\n",
       "  <thead>\n",
       "    <tr style=\"text-align: right;\">\n",
       "      <th></th>\n",
       "      <th>width</th>\n",
       "      <th>height</th>\n",
       "    </tr>\n",
       "  </thead>\n",
       "  <tbody>\n",
       "    <tr>\n",
       "      <th>0</th>\n",
       "      <td>2.91</td>\n",
       "      <td>0.03</td>\n",
       "    </tr>\n",
       "    <tr>\n",
       "      <th>1</th>\n",
       "      <td>6.07</td>\n",
       "      <td>12.17</td>\n",
       "    </tr>\n",
       "    <tr>\n",
       "      <th>2</th>\n",
       "      <td>1.22</td>\n",
       "      <td>0.78</td>\n",
       "    </tr>\n",
       "    <tr>\n",
       "      <th>3</th>\n",
       "      <td>6.37</td>\n",
       "      <td>8.26</td>\n",
       "    </tr>\n",
       "    <tr>\n",
       "      <th>4</th>\n",
       "      <td>1.75</td>\n",
       "      <td>5.84</td>\n",
       "    </tr>\n",
       "  </tbody>\n",
       "</table>\n",
       "</div>"
      ],
      "text/plain": [
       "   width  height\n",
       "0   2.91    0.03\n",
       "1   6.07   12.17\n",
       "2   1.22    0.78\n",
       "3   6.37    8.26\n",
       "4   1.75    5.84"
      ]
     },
     "execution_count": 1,
     "metadata": {},
     "output_type": "execute_result"
    }
   ],
   "source": [
    "url='https://raw.githubusercontent.com/APS1040/Day01/main/ch_1.csv'\n",
    "import pandas as pd\n",
    "df = pd.read_csv(url)\n",
    "df.head()"
   ]
  },
  {
   "cell_type": "markdown",
   "metadata": {},
   "source": [
    "### mean, SD and N\n",
    "these can be obtained from previously introduced methods. "
   ]
  },
  {
   "cell_type": "code",
   "execution_count": 22,
   "metadata": {},
   "outputs": [
    {
     "name": "stdout",
     "output_type": "stream",
     "text": [
      "mean: 4.533448275862069\n"
     ]
    }
   ],
   "source": [
    "print('mean:',df.width.mean())"
   ]
  },
  {
   "cell_type": "code",
   "execution_count": 23,
   "metadata": {},
   "outputs": [
    {
     "name": "stdout",
     "output_type": "stream",
     "text": [
      "SD: 2.721466615976011\n"
     ]
    }
   ],
   "source": [
    "print('SD:',df.width.std(ddof=1))"
   ]
  },
  {
   "cell_type": "code",
   "execution_count": 24,
   "metadata": {},
   "outputs": [
    {
     "name": "stdout",
     "output_type": "stream",
     "text": [
      "N: 29\n"
     ]
    }
   ],
   "source": [
    "print('N:',df.width.size)"
   ]
  },
  {
   "cell_type": "markdown",
   "metadata": {},
   "source": [
    "### AD and p-value\n",
    "these require new methods: scipy.anderson, panda.to_numpy "
   ]
  },
  {
   "cell_type": "markdown",
   "metadata": {},
   "source": [
    "#### to_numpy in panda\n",
    "This method converts dataframe to array, since anderson requires an array"
   ]
  },
  {
   "cell_type": "code",
   "execution_count": 25,
   "metadata": {},
   "outputs": [
    {
     "name": "stdout",
     "output_type": "stream",
     "text": [
      "[2.91 6.07 1.22 6.37 1.75 6.44 0.35 5.2  5.51 6.06 6.57 9.16 2.52 8.28\n",
      " 5.55 4.58 1.28 2.21 3.61 7.91 7.59 4.05 2.69 0.05 3.65 8.77 2.03 8.04\n",
      " 1.05]\n"
     ]
    }
   ],
   "source": [
    "a=df['width'].to_numpy()\n",
    "print(a)"
   ]
  },
  {
   "cell_type": "markdown",
   "metadata": {},
   "source": [
    "#### anderson in scipy.stats\n",
    "This method takes inputs \n",
    "1. x: an array\n",
    "2. dist: the name of a distribution, in our case 'norm'\n",
    "\n",
    "and returns\n",
    "1. statistic: the value of the AD statistic (the smaller the better)\n",
    "2. critical_values: values to be compared to the statistic\n",
    "3. significance_level: the corresponding p-value\n",
    "\n",
    "The example below illustrates its use. \n"
   ]
  },
  {
   "cell_type": "code",
   "execution_count": 26,
   "metadata": {},
   "outputs": [
    {
     "name": "stdout",
     "output_type": "stream",
     "text": [
      "Statistic: 0.406\n",
      "Critical Values: [0.52  0.592 0.71  0.828 0.985]\n",
      "Significance_level [15.  10.   5.   2.5  1. ]\n"
     ]
    }
   ],
   "source": [
    "import scipy.stats as stat\n",
    "result=stat.anderson(a,'norm') #store results to improve output readability\n",
    "print('Statistic: %.3f' % result.statistic)\n",
    "print('Critical Values:',result.critical_values)\n",
    "print('Significance_level', result.significance_level)"
   ]
  },
  {
   "cell_type": "markdown",
   "metadata": {},
   "source": [
    "Since the statistic 0.406 is smaller than the smallest critical value 0.52, therefore the p-value is larger than 15% and thus we fail-to-reject the null hypothesis that the data is normally distributed. "
   ]
  },
  {
   "cell_type": "markdown",
   "metadata": {},
   "source": [
    "### Probability Plot\n",
    "\n",
    "While probplot does not produce the same plot as minitab, it does allow one to compare the quantiles expected from a normal distribution with those of the data. In this course we will depend on the AD test for the normal distribution. "
   ]
  },
  {
   "cell_type": "code",
   "execution_count": 27,
   "metadata": {},
   "outputs": [
    {
     "data": {
      "image/png": "[encoded data removed]",
      "text/plain": [
       "<Figure size 432x288 with 1 Axes>"
      ]
     },
     "metadata": {
      "needs_background": "light"
     },
     "output_type": "display_data"
    }
   ],
   "source": [
    "import matplotlib.pyplot as plt\n",
    "stat.probplot(a,plot=plt)\n",
    "plt.show()"
   ]
  },
  {
   "cell_type": "markdown",
   "metadata": {},
   "source": [
    "### Confidence Intervals\n",
    "Not readily available with python"
   ]
  }
 ],
 "metadata": {
  "kernelspec": {
   "display_name": "Python 3",
   "language": "python",
   "name": "python3"
  },
  "language_info": {
   "codemirror_mode": {
    "name": "ipython",
    "version": 3
   },
   "file_extension": ".py",
   "mimetype": "text/x-python",
   "name": "python",
   "nbconvert_exporter": "python",
   "pygments_lexer": "ipython3",
   "version": "3.8.8"
  }
 },
 "nbformat": 4,
 "nbformat_minor": 2
}
